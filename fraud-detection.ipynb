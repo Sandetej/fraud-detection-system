{
 "cells": [
  {
   "cell_type": "code",
   "execution_count": 20,
   "id": "7a23696f-14d9-4514-a6ff-e31845b915d6",
   "metadata": {},
   "outputs": [],
   "source": [
    "import pandas as pd\n",
    "import numpy as np\n",
    "import warnings\n",
    "warnings.filterwarnings('ignore')\n",
    "\n",
    "# Preprocessing and modeling imports\n",
    "from sklearn.model_selection import train_test_split, StratifiedKFold, GridSearchCV\n",
    "from sklearn.preprocessing import StandardScaler, OneHotEncoder\n",
    "from sklearn.compose import ColumnTransformer\n",
    "from sklearn.pipeline import Pipeline\n",
    "from sklearn.ensemble import RandomForestClassifier\n",
    "from sklearn.metrics import (\n",
    "    precision_score,\n",
    "    recall_score,\n",
    "    f1_score,\n",
    "    roc_auc_score,\n",
    "    average_precision_score,\n",
    "    classification_report,\n",
    "    confusion_matrix\n",
    ")\n",
    "from imblearn.over_sampling import SMOTE\n",
    "from imblearn.pipeline import Pipeline as ImbPipeline"
   ]
  },
  {
   "cell_type": "markdown",
   "id": "6e31959d-a1ec-4588-8b1c-a2b753c41852",
   "metadata": {},
   "source": [
    "## 1. Load data"
   ]
  },
  {
   "cell_type": "code",
   "execution_count": 21,
   "id": "055c056d-c554-451d-961f-fe4b46dec08f",
   "metadata": {},
   "outputs": [
    {
     "name": "stdout",
     "output_type": "stream",
     "text": [
      "Dataset shape: (594643, 10)\n",
      "Columns: ['step', 'customer', 'age', 'gender', 'zipcodeOri', 'merchant', 'zipMerchant', 'category', 'amount', 'fraud']\n",
      "Fraud rate: 1.21%\n"
     ]
    }
   ],
   "source": [
    "fraud_df = pd.read_csv(\"fraudData.csv\")\n",
    "print(f\"Dataset shape: {fraud_df.shape}\")\n",
    "print(f\"Columns: {list(fraud_df.columns)}\")\n",
    "print(f\"Fraud rate: {fraud_df['fraud'].mean()*100:.2f}%\")"
   ]
  },
  {
   "cell_type": "markdown",
   "id": "cab50b1d-f4f0-4d22-b61d-fa2b263e314b",
   "metadata": {},
   "source": [
    "## 2. Data cleaning"
   ]
  },
  {
   "cell_type": "code",
   "execution_count": 22,
   "id": "4906b1a4-6c3d-49b3-b507-3166220eca6e",
   "metadata": {},
   "outputs": [
    {
     "data": {
      "text/html": [
       "<div>\n",
       "<style scoped>\n",
       "    .dataframe tbody tr th:only-of-type {\n",
       "        vertical-align: middle;\n",
       "    }\n",
       "\n",
       "    .dataframe tbody tr th {\n",
       "        vertical-align: top;\n",
       "    }\n",
       "\n",
       "    .dataframe thead th {\n",
       "        text-align: right;\n",
       "    }\n",
       "</style>\n",
       "<table border=\"1\" class=\"dataframe\">\n",
       "  <thead>\n",
       "    <tr style=\"text-align: right;\">\n",
       "      <th></th>\n",
       "      <th>step</th>\n",
       "      <th>customer</th>\n",
       "      <th>age</th>\n",
       "      <th>gender</th>\n",
       "      <th>zipcodeOri</th>\n",
       "      <th>merchant</th>\n",
       "      <th>zipMerchant</th>\n",
       "      <th>category</th>\n",
       "      <th>amount</th>\n",
       "      <th>fraud</th>\n",
       "    </tr>\n",
       "  </thead>\n",
       "  <tbody>\n",
       "    <tr>\n",
       "      <th>0</th>\n",
       "      <td>0</td>\n",
       "      <td>C1093826151</td>\n",
       "      <td>4</td>\n",
       "      <td>M</td>\n",
       "      <td>28007</td>\n",
       "      <td>M348934600</td>\n",
       "      <td>28007</td>\n",
       "      <td>es_transportation</td>\n",
       "      <td>4.55</td>\n",
       "      <td>0</td>\n",
       "    </tr>\n",
       "    <tr>\n",
       "      <th>1</th>\n",
       "      <td>0</td>\n",
       "      <td>C352968107</td>\n",
       "      <td>2</td>\n",
       "      <td>M</td>\n",
       "      <td>28007</td>\n",
       "      <td>M348934600</td>\n",
       "      <td>28007</td>\n",
       "      <td>es_transportation</td>\n",
       "      <td>39.68</td>\n",
       "      <td>0</td>\n",
       "    </tr>\n",
       "    <tr>\n",
       "      <th>2</th>\n",
       "      <td>0</td>\n",
       "      <td>C2054744914</td>\n",
       "      <td>4</td>\n",
       "      <td>F</td>\n",
       "      <td>28007</td>\n",
       "      <td>M1823072687</td>\n",
       "      <td>28007</td>\n",
       "      <td>es_transportation</td>\n",
       "      <td>26.89</td>\n",
       "      <td>0</td>\n",
       "    </tr>\n",
       "    <tr>\n",
       "      <th>3</th>\n",
       "      <td>0</td>\n",
       "      <td>C1760612790</td>\n",
       "      <td>3</td>\n",
       "      <td>M</td>\n",
       "      <td>28007</td>\n",
       "      <td>M348934600</td>\n",
       "      <td>28007</td>\n",
       "      <td>es_transportation</td>\n",
       "      <td>17.25</td>\n",
       "      <td>0</td>\n",
       "    </tr>\n",
       "    <tr>\n",
       "      <th>4</th>\n",
       "      <td>0</td>\n",
       "      <td>C757503768</td>\n",
       "      <td>5</td>\n",
       "      <td>M</td>\n",
       "      <td>28007</td>\n",
       "      <td>M348934600</td>\n",
       "      <td>28007</td>\n",
       "      <td>es_transportation</td>\n",
       "      <td>35.72</td>\n",
       "      <td>0</td>\n",
       "    </tr>\n",
       "  </tbody>\n",
       "</table>\n",
       "</div>"
      ],
      "text/plain": [
       "   step     customer age gender zipcodeOri     merchant zipMerchant  \\\n",
       "0     0  C1093826151   4      M      28007   M348934600       28007   \n",
       "1     0   C352968107   2      M      28007   M348934600       28007   \n",
       "2     0  C2054744914   4      F      28007  M1823072687       28007   \n",
       "3     0  C1760612790   3      M      28007   M348934600       28007   \n",
       "4     0   C757503768   5      M      28007   M348934600       28007   \n",
       "\n",
       "            category  amount  fraud  \n",
       "0  es_transportation    4.55      0  \n",
       "1  es_transportation   39.68      0  \n",
       "2  es_transportation   26.89      0  \n",
       "3  es_transportation   17.25      0  \n",
       "4  es_transportation   35.72      0  "
      ]
     },
     "execution_count": 22,
     "metadata": {},
     "output_type": "execute_result"
    }
   ],
   "source": [
    "text_cols = [\"customer\", \"age\", \"gender\", \"zipcodeOri\", \"merchant\", \"zipMerchant\", \"category\"]\n",
    "for col in text_cols:\n",
    "    if col in fraud_df.columns:\n",
    "        fraud_df[col] = fraud_df[col].astype(str).str.replace(r\"[^\\w\\s]\", \"\", regex=True)\n",
    "fraud_df.head()"
   ]
  },
  {
   "cell_type": "markdown",
   "id": "00ea9961-e575-45d6-b9c8-21297b6c5660",
   "metadata": {},
   "source": [
    "## 3. Feature cardinality check"
   ]
  },
  {
   "cell_type": "code",
   "execution_count": 23,
   "id": "b0d39171-3d6f-45f2-8c20-40575918f224",
   "metadata": {
    "scrolled": true
   },
   "outputs": [
    {
     "name": "stdout",
     "output_type": "stream",
     "text": [
      "customer: 4112 unique values\n",
      "merchant: 50 unique values\n",
      "age: 8 unique values\n",
      "gender: 4 unique values\n",
      "category: 15 unique values\n"
     ]
    }
   ],
   "source": [
    "for col in [\"customer\", \"merchant\", \"age\", \"gender\", \"category\"]:\n",
    "    if col in fraud_df.columns:\n",
    "        print(f\"{col}: {fraud_df[col].nunique()} unique values\")"
   ]
  },
  {
   "cell_type": "markdown",
   "id": "a84e5e13-aa3a-4fe6-b07e-112c642f2839",
   "metadata": {},
   "source": [
    "## 4.frequency encoding to avoid high cardinality\n",
    "### Customer-based features"
   ]
  },
  {
   "cell_type": "code",
   "execution_count": 24,
   "id": "207a96d8-5493-4418-90b3-257d7a464b79",
   "metadata": {},
   "outputs": [],
   "source": [
    "customer_stats = fraud_df.groupby('customer').agg({\n",
    "                                                    'fraud': ['count', 'mean', 'sum'],\n",
    "                                                    'amount': ['mean', 'std', 'min', 'max']\n",
    "                                                  }).fillna(0)\n",
    "\n",
    "customer_stats.columns = ['customer_transaction_count', 'customer_fraud_rate', 'customer_total_fraud',\n",
    "                         'customer_avg_amount', 'customer_amount_std', 'customer_min_amount', 'customer_max_amount']\n",
    "\n",
    "fraud_df = fraud_df.merge(customer_stats, left_on='customer', right_index=True, how='left')"
   ]
  },
  {
   "cell_type": "markdown",
   "id": "447de48c-81b4-48e0-88ef-29a42fcdc128",
   "metadata": {},
   "source": [
    "### Merchant-based features"
   ]
  },
  {
   "cell_type": "code",
   "execution_count": 25,
   "id": "17e26d06-c672-4fd8-b85d-a8bddf82bc9c",
   "metadata": {},
   "outputs": [],
   "source": [
    "merchant_stats = fraud_df.groupby('merchant').agg({\n",
    "                                                    'fraud': ['count', 'mean'],\n",
    "                                                    'amount': ['mean', 'std']\n",
    "                                                }).fillna(0)\n",
    "\n",
    "merchant_stats.columns = ['merchant_transaction_count', 'merchant_fraud_rate', 'merchant_avg_amount', 'merchant_amount_std']\n",
    "\n",
    "fraud_df = fraud_df.merge(merchant_stats, left_on='merchant', right_index=True, how='left')"
   ]
  },
  {
   "cell_type": "markdown",
   "id": "d6f32390-3765-4354-b32e-10490b937030",
   "metadata": {},
   "source": [
    "### Amount deviation features"
   ]
  },
  {
   "cell_type": "code",
   "execution_count": 26,
   "id": "8723d235-d4b8-4b56-bdc5-d021c4a3c39f",
   "metadata": {},
   "outputs": [],
   "source": [
    "fraud_df['amount_vs_customer_avg'] = (fraud_df['amount'] - fraud_df['customer_avg_amount']) / (fraud_df['customer_amount_std'] + 1e-8)\n",
    "fraud_df['amount_vs_merchant_avg'] = (fraud_df['amount'] - fraud_df['merchant_avg_amount']) / (fraud_df['merchant_amount_std'] + 1e-8)"
   ]
  },
  {
   "cell_type": "markdown",
   "id": "3b6debb3-c7f4-4f36-bab1-640bb3c9c5dd",
   "metadata": {},
   "source": [
    "### Time-based features (if step represents time)"
   ]
  },
  {
   "cell_type": "code",
   "execution_count": 27,
   "id": "7e3005f8-a936-43ab-9e63-b5c94a29b788",
   "metadata": {},
   "outputs": [
    {
     "name": "stdout",
     "output_type": "stream",
     "text": [
      "Enhanced dataset shape: (594643, 22)\n",
      "New features: ['step', 'age', 'gender', 'merchant', 'category', 'amount', 'fraud', 'customer_transaction_count', 'customer_fraud_rate', 'customer_total_fraud', 'customer_avg_amount', 'customer_amount_std', 'customer_min_amount', 'customer_max_amount', 'merchant_transaction_count', 'merchant_fraud_rate', 'merchant_avg_amount', 'merchant_amount_std', 'amount_vs_customer_avg', 'amount_vs_merchant_avg', 'step_mod_24', 'step_mod_7']\n"
     ]
    },
    {
     "data": {
      "text/html": [
       "<div>\n",
       "<style scoped>\n",
       "    .dataframe tbody tr th:only-of-type {\n",
       "        vertical-align: middle;\n",
       "    }\n",
       "\n",
       "    .dataframe tbody tr th {\n",
       "        vertical-align: top;\n",
       "    }\n",
       "\n",
       "    .dataframe thead th {\n",
       "        text-align: right;\n",
       "    }\n",
       "</style>\n",
       "<table border=\"1\" class=\"dataframe\">\n",
       "  <thead>\n",
       "    <tr style=\"text-align: right;\">\n",
       "      <th></th>\n",
       "      <th>step</th>\n",
       "      <th>age</th>\n",
       "      <th>gender</th>\n",
       "      <th>merchant</th>\n",
       "      <th>category</th>\n",
       "      <th>amount</th>\n",
       "      <th>fraud</th>\n",
       "      <th>customer_transaction_count</th>\n",
       "      <th>customer_fraud_rate</th>\n",
       "      <th>customer_total_fraud</th>\n",
       "      <th>...</th>\n",
       "      <th>customer_min_amount</th>\n",
       "      <th>customer_max_amount</th>\n",
       "      <th>merchant_transaction_count</th>\n",
       "      <th>merchant_fraud_rate</th>\n",
       "      <th>merchant_avg_amount</th>\n",
       "      <th>merchant_amount_std</th>\n",
       "      <th>amount_vs_customer_avg</th>\n",
       "      <th>amount_vs_merchant_avg</th>\n",
       "      <th>step_mod_24</th>\n",
       "      <th>step_mod_7</th>\n",
       "    </tr>\n",
       "  </thead>\n",
       "  <tbody>\n",
       "    <tr>\n",
       "      <th>0</th>\n",
       "      <td>0</td>\n",
       "      <td>4</td>\n",
       "      <td>M</td>\n",
       "      <td>M348934600</td>\n",
       "      <td>es_transportation</td>\n",
       "      <td>4.55</td>\n",
       "      <td>0</td>\n",
       "      <td>167</td>\n",
       "      <td>0.0</td>\n",
       "      <td>0</td>\n",
       "      <td>...</td>\n",
       "      <td>0.44</td>\n",
       "      <td>95.91</td>\n",
       "      <td>205426</td>\n",
       "      <td>0.0</td>\n",
       "      <td>26.965542</td>\n",
       "      <td>17.526489</td>\n",
       "      <td>-1.313545</td>\n",
       "      <td>-1.278952</td>\n",
       "      <td>0</td>\n",
       "      <td>0</td>\n",
       "    </tr>\n",
       "    <tr>\n",
       "      <th>1</th>\n",
       "      <td>0</td>\n",
       "      <td>2</td>\n",
       "      <td>M</td>\n",
       "      <td>M348934600</td>\n",
       "      <td>es_transportation</td>\n",
       "      <td>39.68</td>\n",
       "      <td>0</td>\n",
       "      <td>169</td>\n",
       "      <td>0.0</td>\n",
       "      <td>0</td>\n",
       "      <td>...</td>\n",
       "      <td>0.53</td>\n",
       "      <td>135.86</td>\n",
       "      <td>205426</td>\n",
       "      <td>0.0</td>\n",
       "      <td>26.965542</td>\n",
       "      <td>17.526489</td>\n",
       "      <td>0.302604</td>\n",
       "      <td>0.725442</td>\n",
       "      <td>0</td>\n",
       "      <td>0</td>\n",
       "    </tr>\n",
       "    <tr>\n",
       "      <th>2</th>\n",
       "      <td>0</td>\n",
       "      <td>4</td>\n",
       "      <td>F</td>\n",
       "      <td>M1823072687</td>\n",
       "      <td>es_transportation</td>\n",
       "      <td>26.89</td>\n",
       "      <td>0</td>\n",
       "      <td>65</td>\n",
       "      <td>0.0</td>\n",
       "      <td>0</td>\n",
       "      <td>...</td>\n",
       "      <td>0.32</td>\n",
       "      <td>189.59</td>\n",
       "      <td>299693</td>\n",
       "      <td>0.0</td>\n",
       "      <td>26.953146</td>\n",
       "      <td>17.528857</td>\n",
       "      <td>-0.410479</td>\n",
       "      <td>-0.003602</td>\n",
       "      <td>0</td>\n",
       "      <td>0</td>\n",
       "    </tr>\n",
       "    <tr>\n",
       "      <th>3</th>\n",
       "      <td>0</td>\n",
       "      <td>3</td>\n",
       "      <td>M</td>\n",
       "      <td>M348934600</td>\n",
       "      <td>es_transportation</td>\n",
       "      <td>17.25</td>\n",
       "      <td>0</td>\n",
       "      <td>171</td>\n",
       "      <td>0.0</td>\n",
       "      <td>0</td>\n",
       "      <td>...</td>\n",
       "      <td>0.07</td>\n",
       "      <td>162.48</td>\n",
       "      <td>205426</td>\n",
       "      <td>0.0</td>\n",
       "      <td>26.965542</td>\n",
       "      <td>17.526489</td>\n",
       "      <td>-0.521501</td>\n",
       "      <td>-0.554335</td>\n",
       "      <td>0</td>\n",
       "      <td>0</td>\n",
       "    </tr>\n",
       "    <tr>\n",
       "      <th>4</th>\n",
       "      <td>0</td>\n",
       "      <td>5</td>\n",
       "      <td>M</td>\n",
       "      <td>M348934600</td>\n",
       "      <td>es_transportation</td>\n",
       "      <td>35.72</td>\n",
       "      <td>0</td>\n",
       "      <td>145</td>\n",
       "      <td>0.0</td>\n",
       "      <td>0</td>\n",
       "      <td>...</td>\n",
       "      <td>0.01</td>\n",
       "      <td>168.45</td>\n",
       "      <td>205426</td>\n",
       "      <td>0.0</td>\n",
       "      <td>26.965542</td>\n",
       "      <td>17.526489</td>\n",
       "      <td>0.170832</td>\n",
       "      <td>0.499499</td>\n",
       "      <td>0</td>\n",
       "      <td>0</td>\n",
       "    </tr>\n",
       "  </tbody>\n",
       "</table>\n",
       "<p>5 rows × 22 columns</p>\n",
       "</div>"
      ],
      "text/plain": [
       "   step age gender     merchant           category  amount  fraud  \\\n",
       "0     0   4      M   M348934600  es_transportation    4.55      0   \n",
       "1     0   2      M   M348934600  es_transportation   39.68      0   \n",
       "2     0   4      F  M1823072687  es_transportation   26.89      0   \n",
       "3     0   3      M   M348934600  es_transportation   17.25      0   \n",
       "4     0   5      M   M348934600  es_transportation   35.72      0   \n",
       "\n",
       "   customer_transaction_count  customer_fraud_rate  customer_total_fraud  ...  \\\n",
       "0                         167                  0.0                     0  ...   \n",
       "1                         169                  0.0                     0  ...   \n",
       "2                          65                  0.0                     0  ...   \n",
       "3                         171                  0.0                     0  ...   \n",
       "4                         145                  0.0                     0  ...   \n",
       "\n",
       "   customer_min_amount  customer_max_amount  merchant_transaction_count  \\\n",
       "0                 0.44                95.91                      205426   \n",
       "1                 0.53               135.86                      205426   \n",
       "2                 0.32               189.59                      299693   \n",
       "3                 0.07               162.48                      205426   \n",
       "4                 0.01               168.45                      205426   \n",
       "\n",
       "   merchant_fraud_rate  merchant_avg_amount  merchant_amount_std  \\\n",
       "0                  0.0            26.965542            17.526489   \n",
       "1                  0.0            26.965542            17.526489   \n",
       "2                  0.0            26.953146            17.528857   \n",
       "3                  0.0            26.965542            17.526489   \n",
       "4                  0.0            26.965542            17.526489   \n",
       "\n",
       "   amount_vs_customer_avg  amount_vs_merchant_avg  step_mod_24  step_mod_7  \n",
       "0               -1.313545               -1.278952            0           0  \n",
       "1                0.302604                0.725442            0           0  \n",
       "2               -0.410479               -0.003602            0           0  \n",
       "3               -0.521501               -0.554335            0           0  \n",
       "4                0.170832                0.499499            0           0  \n",
       "\n",
       "[5 rows x 22 columns]"
      ]
     },
     "execution_count": 27,
     "metadata": {},
     "output_type": "execute_result"
    }
   ],
   "source": [
    "fraud_df['step_mod_24'] = fraud_df['step'] % 24  # Hour of day pattern\n",
    "fraud_df['step_mod_7'] = fraud_df['step'] % 7    # Day of week pattern\n",
    "\n",
    "# Drop original high-cardinality and unnecessary columns\n",
    "fraud_df = fraud_df.drop(['customer', 'zipcodeOri', 'zipMerchant'], axis=1)\n",
    "\n",
    "print(f\"Enhanced dataset shape: {fraud_df.shape}\")\n",
    "print(f\"New features: {list(fraud_df.columns)}\")\n",
    "fraud_df.head()"
   ]
  },
  {
   "cell_type": "markdown",
   "id": "f3e05cfa-f726-4b54-b3c4-c0a68764ebc8",
   "metadata": {},
   "source": [
    "## 5. Define features and target"
   ]
  },
  {
   "cell_type": "code",
   "execution_count": 28,
   "id": "95a96846-6890-4bcb-9670-6182c962556b",
   "metadata": {},
   "outputs": [],
   "source": [
    "X = fraud_df.drop(columns=[\"fraud\"])\n",
    "y = fraud_df[\"fraud\"].astype(int)"
   ]
  },
  {
   "cell_type": "markdown",
   "id": "f1e61313-72df-4a70-80c4-2e22045ee5fb",
   "metadata": {},
   "source": [
    "## 6. Feature categorization"
   ]
  },
  {
   "cell_type": "code",
   "execution_count": 29,
   "id": "d23fd44a-d5db-438a-892a-2333557de138",
   "metadata": {},
   "outputs": [
    {
     "name": "stdout",
     "output_type": "stream",
     "text": [
      "\n",
      "Numeric features (17): ['step', 'amount', 'customer_transaction_count', 'customer_fraud_rate', 'customer_total_fraud', 'customer_avg_amount', 'customer_amount_std', 'customer_min_amount', 'customer_max_amount', 'merchant_transaction_count', 'merchant_fraud_rate', 'merchant_avg_amount', 'merchant_amount_std', 'amount_vs_customer_avg', 'amount_vs_merchant_avg', 'step_mod_24', 'step_mod_7']\n",
      "Categorical features (4): ['merchant', 'age', 'gender', 'category']\n",
      "\n",
      "Final feature counts:\n",
      "- Numeric: 17\n",
      "- Categorical: 4\n"
     ]
    }
   ],
   "source": [
    "numeric_features = [\n",
    "    'step', 'amount', \n",
    "    'customer_transaction_count', 'customer_fraud_rate', 'customer_total_fraud',\n",
    "    'customer_avg_amount', 'customer_amount_std', 'customer_min_amount', 'customer_max_amount',\n",
    "    'merchant_transaction_count', 'merchant_fraud_rate', 'merchant_avg_amount', 'merchant_amount_std',\n",
    "    'amount_vs_customer_avg', 'amount_vs_merchant_avg', 'step_mod_24', 'step_mod_7'\n",
    "]\n",
    "\n",
    "categorical_features = ['merchant', 'age', 'gender', 'category']\n",
    "\n",
    "print(f\"\\nNumeric features ({len(numeric_features)}): {numeric_features}\")\n",
    "print(f\"Categorical features ({len(categorical_features)}): {categorical_features}\")\n",
    "\n",
    "# Verifying all features exist\n",
    "numeric_features = [f for f in numeric_features if f in X.columns]\n",
    "categorical_features = [f for f in categorical_features if f in X.columns]\n",
    "\n",
    "print(f\"\\nFinal feature counts:\")\n",
    "print(f\"- Numeric: {len(numeric_features)}\")\n",
    "print(f\"- Categorical: {len(categorical_features)}\")"
   ]
  },
  {
   "cell_type": "markdown",
   "id": "f52a873a-9f7f-4569-9098-2edcaaee88e0",
   "metadata": {},
   "source": [
    "## 8. Train/test split"
   ]
  },
  {
   "cell_type": "code",
   "execution_count": 30,
   "id": "7369da83-3b66-44f7-8b1e-a26b5440734c",
   "metadata": {},
   "outputs": [
    {
     "name": "stdout",
     "output_type": "stream",
     "text": [
      "Training: (475714, 21), Fraud rate: 1.21%\n",
      "Testing: (118929, 21), Fraud rate: 1.21%\n"
     ]
    }
   ],
   "source": [
    "X_train, X_test, y_train, y_test = train_test_split(\n",
    "    X, y, test_size=0.2, random_state=42, stratify=y\n",
    ")\n",
    "\n",
    "print(f\"Training: {X_train.shape}, Fraud rate: {y_train.mean()*100:.2f}%\")\n",
    "print(f\"Testing: {X_test.shape}, Fraud rate: {y_test.mean()*100:.2f}%\")"
   ]
  },
  {
   "cell_type": "markdown",
   "id": "5d38f655-dbe2-4a55-a6c1-32d5bf564360",
   "metadata": {},
   "source": [
    "## 9. Preprocessing pipeline"
   ]
  },
  {
   "cell_type": "code",
   "execution_count": 31,
   "id": "0972e6db-cb6a-499b-9902-6d36a91c09bb",
   "metadata": {},
   "outputs": [],
   "source": [
    "numeric_transformer = Pipeline([\n",
    "    ('scaler', StandardScaler())\n",
    "])\n",
    "\n",
    "categorical_transformer = Pipeline([\n",
    "    ('onehot', OneHotEncoder(handle_unknown='ignore', sparse_output=False))\n",
    "])\n",
    "\n",
    "preprocessor = ColumnTransformer([\n",
    "    ('num', numeric_transformer, numeric_features),\n",
    "    ('cat', categorical_transformer, categorical_features)\n",
    "], remainder='drop')"
   ]
  },
  {
   "cell_type": "markdown",
   "id": "ac2002ef-3478-41a3-a019-4a63b8375e07",
   "metadata": {},
   "source": [
    "## 10. Model configuration"
   ]
  },
  {
   "cell_type": "code",
   "execution_count": 32,
   "id": "7013d52b-7f29-4e80-9c7e-a843811feba0",
   "metadata": {},
   "outputs": [
    {
     "name": "stdout",
     "output_type": "stream",
     "text": [
      "\n",
      "Configuring RandomForest model...\n"
     ]
    }
   ],
   "source": [
    "print(\"\\nConfiguring RandomForest model...\")\n",
    "model = RandomForestClassifier(\n",
    "    n_estimators=200,           \n",
    "    max_depth=20,              \n",
    "    min_samples_split=3,\n",
    "    min_samples_leaf=1,\n",
    "    max_features='sqrt',\n",
    "    random_state=42,\n",
    "    n_jobs=2,                  \n",
    "    class_weight='balanced',  \n",
    "    oob_score=True           \n",
    ")"
   ]
  },
  {
   "cell_type": "markdown",
   "id": "d0827552-728c-4525-9149-aa395069f41f",
   "metadata": {},
   "source": [
    "## 11. Complete pipeline"
   ]
  },
  {
   "cell_type": "code",
   "execution_count": 33,
   "id": "e2d4c46b-dc25-45fb-8c45-9f2654c7f62d",
   "metadata": {},
   "outputs": [],
   "source": [
    "pipeline = ImbPipeline([\n",
    "    ('preprocess', preprocessor),\n",
    "    ('smote', SMOTE(random_state=42, k_neighbors=5)),\n",
    "    ('classifier', model)\n",
    "])"
   ]
  },
  {
   "cell_type": "markdown",
   "id": "41503afe-03ad-4c91-9252-6a2dd1b5451d",
   "metadata": {},
   "source": [
    "## 12. Model training"
   ]
  },
  {
   "cell_type": "code",
   "execution_count": 34,
   "id": "7b3b0844-82a3-494d-809a-4ed94e5f811e",
   "metadata": {},
   "outputs": [
    {
     "name": "stdout",
     "output_type": "stream",
     "text": [
      "\n",
      "Training model (this will take 5-10 minutes)...\n",
      "Out-of-bag score: 0.9970\n"
     ]
    }
   ],
   "source": [
    "print(\"\\nTraining model (this will take 5-10 minutes)...\")\n",
    "pipeline.fit(X_train, y_train)\n",
    "\n",
    "print(f\"Out-of-bag score: {pipeline.named_steps['classifier'].oob_score_:.4f}\")"
   ]
  },
  {
   "cell_type": "markdown",
   "id": "d2f4d0f7-f5e4-4718-93d5-8073bbdfc0fa",
   "metadata": {},
   "source": [
    "## 13. Predictions"
   ]
  },
  {
   "cell_type": "code",
   "execution_count": 36,
   "id": "da5cb023-3467-4827-8a2c-242d10149265",
   "metadata": {},
   "outputs": [
    {
     "name": "stdout",
     "output_type": "stream",
     "text": [
      "\n",
      "Making predictions...\n"
     ]
    }
   ],
   "source": [
    "print(\"\\nMaking predictions...\")\n",
    "y_pred = pipeline.predict(X_test)\n",
    "y_proba = pipeline.predict_proba(X_test)[:, 1]"
   ]
  },
  {
   "cell_type": "markdown",
   "id": "1c118f58-0362-426a-ae82-fdaa33ebe16a",
   "metadata": {},
   "source": [
    "## 14. Comprehensive evaluation"
   ]
  },
  {
   "cell_type": "code",
   "execution_count": 37,
   "id": "8a61f30c-6829-4be2-a145-48740a33a950",
   "metadata": {},
   "outputs": [
    {
     "name": "stdout",
     "output_type": "stream",
     "text": [
      "\n",
      "======================================================================\n",
      "COMPREHENSIVE MODEL EVALUATION\n",
      "======================================================================\n",
      "\n",
      "=== Classification Report ===\n",
      "              precision    recall  f1-score   support\n",
      "\n",
      "           0     0.9994    0.9942    0.9968    117489\n",
      "           1     0.6681    0.9493    0.7843      1440\n",
      "\n",
      "    accuracy                         0.9937    118929\n",
      "   macro avg     0.8338    0.9718    0.8905    118929\n",
      "weighted avg     0.9954    0.9937    0.9942    118929\n",
      "\n",
      "\n",
      "=== Key Performance Metrics ===\n",
      "Precision:    0.6681\n",
      "Recall:       0.9493\n",
      "F1-Score:     0.7843\n",
      "ROC-AUC:      0.9988\n",
      "PR-AUC:       0.9170\n",
      "\n",
      "=== Confusion Matrix ===\n",
      "Predicted:     No Fraud  |  Fraud\n",
      "Actual:\n",
      "No Fraud:        116810  |    679\n",
      "Fraud:               73  |   1367\n",
      "\n",
      "=== Business Impact Analysis ===\n",
      "Fraud Detection Rate:     94.9%\n",
      "False Alarm Rate:         0.6%\n",
      "Frauds Caught:            1,367 transactions\n",
      "Frauds Missed:            73 transactions\n",
      "False Alarms:             679 transactions\n",
      "Correct Legitimate:       116,810 transactions\n",
      "\n",
      "=== Top 20 Most Important Features ===\n",
      " 1. merchant_fraud_rate                 0.1619\n",
      " 2. merchant_transaction_count          0.1553\n",
      " 3. merchant_amount_std                 0.1366\n",
      " 4. merchant_avg_amount                 0.1037\n",
      " 5. customer_total_fraud                0.0632\n",
      " 6. amount                              0.0612\n",
      " 7. customer_amount_std                 0.0528\n",
      " 8. category_es_transportation          0.0519\n",
      " 9. customer_fraud_rate                 0.0460\n",
      "10. customer_avg_amount                 0.0291\n",
      "11. customer_max_amount                 0.0232\n",
      "12. merchant_M1823072687                0.0202\n",
      "13. amount_vs_customer_avg              0.0143\n",
      "14. merchant_M348934600                 0.0118\n",
      "15. customer_transaction_count          0.0111\n",
      "16. category_es_sportsandtoys           0.0096\n",
      "17. merchant_M480139044                 0.0058\n",
      "18. amount_vs_merchant_avg              0.0050\n",
      "19. category_es_health                  0.0044\n",
      "20. merchant_M980657600                 0.0027\n"
     ]
    }
   ],
   "source": [
    "print(\"\\n\" + \"=\"*70)\n",
    "print(\"COMPREHENSIVE MODEL EVALUATION\")\n",
    "print(\"=\"*70)\n",
    "\n",
    "# Classification report\n",
    "print(\"\\n=== Classification Report ===\")\n",
    "print(classification_report(y_test, y_pred, digits=4))\n",
    "\n",
    "# Key metrics\n",
    "print(\"\\n=== Key Performance Metrics ===\")\n",
    "precision = precision_score(y_test, y_pred)\n",
    "recall = recall_score(y_test, y_pred)\n",
    "f1 = f1_score(y_test, y_pred)\n",
    "roc_auc = roc_auc_score(y_test, y_proba)\n",
    "pr_auc = average_precision_score(y_test, y_proba)\n",
    "\n",
    "print(f\"Precision:    {precision:.4f}\")\n",
    "print(f\"Recall:       {recall:.4f}\")\n",
    "print(f\"F1-Score:     {f1:.4f}\")\n",
    "print(f\"ROC-AUC:      {roc_auc:.4f}\")\n",
    "print(f\"PR-AUC:       {pr_auc:.4f}\")\n",
    "\n",
    "# Confusion matrix\n",
    "print(\"\\n=== Confusion Matrix ===\")\n",
    "cm = confusion_matrix(y_test, y_pred)\n",
    "tn, fp, fn, tp = cm.ravel()\n",
    "\n",
    "print(\"Predicted:     No Fraud  |  Fraud\")\n",
    "print(\"Actual:\")\n",
    "print(f\"No Fraud:      {tn:8d}  |  {fp:5d}\")\n",
    "print(f\"Fraud:         {fn:8d}  |  {tp:5d}\")\n",
    "\n",
    "# Business impact\n",
    "fraud_detection_rate = tp / (tp + fn) if (tp + fn) > 0 else 0\n",
    "false_alarm_rate = fp / (fp + tn) if (fp + tn) > 0 else 0\n",
    "\n",
    "print(\"\\n=== Business Impact Analysis ===\")\n",
    "print(f\"Fraud Detection Rate:     {fraud_detection_rate:.1%}\")\n",
    "print(f\"False Alarm Rate:         {false_alarm_rate:.1%}\")\n",
    "print(f\"Frauds Caught:            {tp:,} transactions\")\n",
    "print(f\"Frauds Missed:            {fn:,} transactions\")\n",
    "print(f\"False Alarms:             {fp:,} transactions\")\n",
    "print(f\"Correct Legitimate:       {tn:,} transactions\")\n",
    "\n",
    "# Feature importance\n",
    "print(\"\\n=== Top 20 Most Important Features ===\")\n",
    "try:\n",
    "    # Get feature names after preprocessing\n",
    "    feature_names = (numeric_features + \n",
    "                    list(pipeline.named_steps['preprocess']\n",
    "                        .named_transformers_['cat']\n",
    "                        .named_steps['onehot']\n",
    "                        .get_feature_names_out(categorical_features)))\n",
    "\n",
    "    importances = pipeline.named_steps['classifier'].feature_importances_\n",
    "    feature_importance = list(zip(feature_names, importances))\n",
    "    feature_importance.sort(key=lambda x: x[1], reverse=True)\n",
    "\n",
    "    for i, (feature, importance) in enumerate(feature_importance[:20]):\n",
    "        print(f\"{i+1:2d}. {feature:<35} {importance:.4f}\")\n",
    "\n",
    "except Exception as e:\n",
    "    print(f\"Feature importance extraction failed: {e}\")"
   ]
  },
  {
   "cell_type": "markdown",
   "id": "fc298307-3a85-431b-9459-2fa002b30ea1",
   "metadata": {},
   "source": [
    "## 15. Model persistence"
   ]
  },
  {
   "cell_type": "code",
   "execution_count": 40,
   "id": "7cf1abd5-306f-46ef-8434-f0afa64da0ce",
   "metadata": {},
   "outputs": [
    {
     "name": "stdout",
     "output_type": "stream",
     "text": [
      "Model saved as 'fraud_detector_final.pkl'\n"
     ]
    }
   ],
   "source": [
    "import joblib\n",
    "joblib.dump(pipeline, \"fraud_detector_final.pkl\")\n",
    "print(\"Model saved as 'fraud_detector_final.pkl'\")"
   ]
  },
  {
   "cell_type": "markdown",
   "id": "29e4bf20-5097-47c9-b736-408fe5ff0c8b",
   "metadata": {},
   "source": [
    "## 16. Performance summary"
   ]
  },
  {
   "cell_type": "code",
   "execution_count": 39,
   "id": "973e9602-e593-408e-93a9-c41e54186551",
   "metadata": {},
   "outputs": [
    {
     "name": "stdout",
     "output_type": "stream",
     "text": [
      "\n",
      "======================================================================\n",
      "FINAL PERFORMANCE SUMMARY\n",
      "======================================================================\n",
      "✓ Model Type: RandomForest with advanced feature engineering\n",
      "✓ Training Data: 475,714 transactions\n",
      "✓ Features Used: 21 total\n",
      "✓ Precision: 66.8% (of flagged transactions, 66.8% are actually fraud)\n",
      "✓ Recall: 94.9% (catches 94.9% of all fraud cases)\n",
      "✓ F1-Score: 0.784 (balanced performance metric)\n",
      "✓ ROC-AUC: 0.999 (overall classification ability)\n",
      "✓ PR-AUC: 0.917 (performance on imbalanced data)\n",
      "======================================================================\n",
      "MODEL TRAINING COMPLETE - READY FOR PRODUCTION!\n",
      "======================================================================\n"
     ]
    }
   ],
   "source": [
    "print(\"\\n\" + \"=\"*70)\n",
    "print(\"FINAL PERFORMANCE SUMMARY\")\n",
    "print(\"=\"*70)\n",
    "print(f\"✓ Model Type: RandomForest with advanced feature engineering\")\n",
    "print(f\"✓ Training Data: {X_train.shape[0]:,} transactions\")\n",
    "print(f\"✓ Features Used: {len(numeric_features + categorical_features)} total\")\n",
    "print(f\"✓ Precision: {precision:.1%} (of flagged transactions, {precision:.1%} are actually fraud)\")\n",
    "print(f\"✓ Recall: {recall:.1%} (catches {recall:.1%} of all fraud cases)\")\n",
    "print(f\"✓ F1-Score: {f1:.3f} (balanced performance metric)\")\n",
    "print(f\"✓ ROC-AUC: {roc_auc:.3f} (overall classification ability)\")\n",
    "print(f\"✓ PR-AUC: {pr_auc:.3f} (performance on imbalanced data)\")\n",
    "print(\"=\"*70)\n",
    "print(\"MODEL TRAINING COMPLETE - READY FOR PRODUCTION!\")\n",
    "print(\"=\"*70)"
   ]
  }
 ],
 "metadata": {
  "kernelspec": {
   "display_name": "Python 3 (ipykernel)",
   "language": "python",
   "name": "python3"
  },
  "language_info": {
   "codemirror_mode": {
    "name": "ipython",
    "version": 3
   },
   "file_extension": ".py",
   "mimetype": "text/x-python",
   "name": "python",
   "nbconvert_exporter": "python",
   "pygments_lexer": "ipython3",
   "version": "3.11.13"
  }
 },
 "nbformat": 4,
 "nbformat_minor": 5
}
